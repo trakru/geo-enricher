{
 "cells": [
  {
   "cell_type": "markdown",
   "metadata": {},
   "source": [
    "## Initial cleanup\n",
    "#### Incoming dataframe may look different for other file types"
   ]
  },
  {
   "cell_type": "code",
   "execution_count": 1,
   "metadata": {},
   "outputs": [],
   "source": [
    "# Library imports\n",
    "\n",
    "import pandas as pd\n",
    "import numpy as np\n",
    "import re"
   ]
  },
  {
   "cell_type": "code",
   "execution_count": 2,
   "metadata": {},
   "outputs": [],
   "source": [
    "# read the source data file\n",
    "\n",
    "df = pd.read_parquet('./data/source-data.parquet')"
   ]
  },
  {
   "cell_type": "code",
   "execution_count": 8,
   "metadata": {},
   "outputs": [
    {
     "data": {
      "text/html": [
       "<div>\n",
       "<style scoped>\n",
       "    .dataframe tbody tr th:only-of-type {\n",
       "        vertical-align: middle;\n",
       "    }\n",
       "\n",
       "    .dataframe tbody tr th {\n",
       "        vertical-align: top;\n",
       "    }\n",
       "\n",
       "    .dataframe thead th {\n",
       "        text-align: right;\n",
       "    }\n",
       "</style>\n",
       "<table border=\"1\" class=\"dataframe\">\n",
       "  <thead>\n",
       "    <tr style=\"text-align: right;\">\n",
       "      <th></th>\n",
       "      <th>Client MAC Address</th>\n",
       "      <th>MAC Address</th>\n",
       "      <th>time</th>\n",
       "      <th>VLAN_ID</th>\n",
       "      <th>tonnage</th>\n",
       "      <th>activeTime</th>\n",
       "      <th>date</th>\n",
       "      <th>month</th>\n",
       "      <th>wday</th>\n",
       "      <th>geometry</th>\n",
       "      <th>type</th>\n",
       "    </tr>\n",
       "  </thead>\n",
       "  <tbody>\n",
       "    <tr>\n",
       "      <th>0</th>\n",
       "      <td>00:00:00:57:b4:49</td>\n",
       "      <td>a8:9f:ec:fc:30:86</td>\n",
       "      <td>2019-11-22T17:00:00Z</td>\n",
       "      <td>822</td>\n",
       "      <td>0.245171</td>\n",
       "      <td>22.896</td>\n",
       "      <td>2019-11-22</td>\n",
       "      <td>Nov</td>\n",
       "      <td>Fri</td>\n",
       "      <td>c(-75.160178, 39.942893)</td>\n",
       "      <td>outdoor</td>\n",
       "    </tr>\n",
       "    <tr>\n",
       "      <th>2</th>\n",
       "      <td>00:04:4b:25:23:3b</td>\n",
       "      <td>a8:9f:ec:da:ad:52</td>\n",
       "      <td>2019-11-11T02:00:00Z</td>\n",
       "      <td>1226</td>\n",
       "      <td>0.485443</td>\n",
       "      <td>125.977</td>\n",
       "      <td>2019-11-11</td>\n",
       "      <td>Nov</td>\n",
       "      <td>Mon</td>\n",
       "      <td>c(-75.159325, 39.939919)</td>\n",
       "      <td>outdoor</td>\n",
       "    </tr>\n",
       "    <tr>\n",
       "      <th>1</th>\n",
       "      <td>00:04:4b:25:23:3b</td>\n",
       "      <td>00:0d:67:7b:aa:08</td>\n",
       "      <td>2019-11-23T05:00:00Z</td>\n",
       "      <td>843</td>\n",
       "      <td>0.002167</td>\n",
       "      <td>3.000</td>\n",
       "      <td>2019-11-23</td>\n",
       "      <td>Nov</td>\n",
       "      <td>Sat</td>\n",
       "      <td>c(-75.157825, 39.944691)</td>\n",
       "      <td>outdoor</td>\n",
       "    </tr>\n",
       "    <tr>\n",
       "      <th>3</th>\n",
       "      <td>00:08:22:00:99:48</td>\n",
       "      <td>a8:9f:ec:da:b3:fa</td>\n",
       "      <td>2019-11-19T16:00:00Z</td>\n",
       "      <td>612</td>\n",
       "      <td>0.003054</td>\n",
       "      <td>3.724</td>\n",
       "      <td>2019-11-19</td>\n",
       "      <td>Nov</td>\n",
       "      <td>Tue</td>\n",
       "      <td>c(-75.16045, 39.941096)</td>\n",
       "      <td>outdoor</td>\n",
       "    </tr>\n",
       "    <tr>\n",
       "      <th>5</th>\n",
       "      <td>00:08:22:00:99:48</td>\n",
       "      <td>a8:9f:ec:fc:30:b6</td>\n",
       "      <td>2019-11-19T16:00:00Z</td>\n",
       "      <td>1224</td>\n",
       "      <td>0.003543</td>\n",
       "      <td>8.515</td>\n",
       "      <td>2019-11-19</td>\n",
       "      <td>Nov</td>\n",
       "      <td>Tue</td>\n",
       "      <td>c(-75.156092, 39.941646)</td>\n",
       "      <td>outdoor</td>\n",
       "    </tr>\n",
       "  </tbody>\n",
       "</table>\n",
       "</div>"
      ],
      "text/plain": [
       "  Client MAC Address        MAC Address                  time  VLAN_ID  \\\n",
       "0  00:00:00:57:b4:49  a8:9f:ec:fc:30:86  2019-11-22T17:00:00Z      822   \n",
       "2  00:04:4b:25:23:3b  a8:9f:ec:da:ad:52  2019-11-11T02:00:00Z     1226   \n",
       "1  00:04:4b:25:23:3b  00:0d:67:7b:aa:08  2019-11-23T05:00:00Z      843   \n",
       "3  00:08:22:00:99:48  a8:9f:ec:da:b3:fa  2019-11-19T16:00:00Z      612   \n",
       "5  00:08:22:00:99:48  a8:9f:ec:fc:30:b6  2019-11-19T16:00:00Z     1224   \n",
       "\n",
       "    tonnage  activeTime        date month wday                  geometry  \\\n",
       "0  0.245171      22.896  2019-11-22   Nov  Fri  c(-75.160178, 39.942893)   \n",
       "2  0.485443     125.977  2019-11-11   Nov  Mon  c(-75.159325, 39.939919)   \n",
       "1  0.002167       3.000  2019-11-23   Nov  Sat  c(-75.157825, 39.944691)   \n",
       "3  0.003054       3.724  2019-11-19   Nov  Tue   c(-75.16045, 39.941096)   \n",
       "5  0.003543       8.515  2019-11-19   Nov  Tue  c(-75.156092, 39.941646)   \n",
       "\n",
       "      type  \n",
       "0  outdoor  \n",
       "2  outdoor  \n",
       "1  outdoor  \n",
       "3  outdoor  \n",
       "5  outdoor  "
      ]
     },
     "execution_count": 8,
     "metadata": {},
     "output_type": "execute_result"
    }
   ],
   "source": [
    "# review the dataframe\n",
    "\n",
    "df.head()"
   ]
  },
  {
   "cell_type": "code",
   "execution_count": 7,
   "metadata": {},
   "outputs": [],
   "source": [
    "# enabling sorted view of dataframe by client mac & time\n",
    "\n",
    "df = df.sort_values([\"Client MAC Address\",\"time\"], ascending=[True,True])"
   ]
  },
  {
   "cell_type": "code",
   "execution_count": 9,
   "metadata": {},
   "outputs": [],
   "source": [
    "# Since this dataframe contains lat, long in geometry form - we need to recapture the lat-long\n",
    "# without getting into the complication of installing geopandas to do something that regex\n",
    "# can also accomplish without exceeding complexity\n",
    "\n",
    "# define regex expressions\n",
    "lon_match = re.compile(r'c\\((.*),\\s+?.*\\)')\n",
    "lat_match = re.compile(r'c\\(.*,\\s+?(.*)\\)')\n",
    "\n",
    "# apply regex transformations\n",
    "df['lat'] = df['geometry'].str.extract(lat_match)\n",
    "df['lon'] = df['geometry'].str.extract(lon_match)"
   ]
  },
  {
   "cell_type": "code",
   "execution_count": 10,
   "metadata": {},
   "outputs": [],
   "source": [
    "# confirming that the lat-long transforms are numeric\n",
    "\n",
    "df['lon'] = pd.to_numeric(df['lon'])\n",
    "df['lat'] = pd.to_numeric(df['lat'])"
   ]
  },
  {
   "cell_type": "markdown",
   "metadata": {},
   "source": [
    "## Adding the geometry calculations\n",
    "\n",
    "#### Step 1: Use the Haversine calculator for distance between points\n",
    "\n",
    "This uses the ‘haversine’ formula to calculate the great-circle distance between two points – \n",
    "that is, the shortest distance over the earth’s surface – \n",
    "giving an ‘as-the-crow-flies’ distance between the points\n",
    "\n",
    "#### Step 2: Use basic math to infer directional changes\n",
    "\n",
    "Use Latitude2-latitude1 to make guidance on (East/West movement)\n",
    "Similar logic for Longitudianl changes to do North/South movement\n",
    "\n",
    "#### Step 3: Clean-up excess columns\n",
    "\n",
    "Remove columns that are not needed\n",
    "\n",
    "#### Notes:\n",
    "\n",
    "These calculations could potentially be made simpler (or could use movingpandas to infer directly)\n",
    "the distance calculator can take upwards of 1200s (20 minutes to execute)\n"
   ]
  },
  {
   "cell_type": "code",
   "execution_count": 11,
   "metadata": {},
   "outputs": [],
   "source": [
    "def haversine_np(lon1, lat1, lon2, lat2):\n",
    "    \"\"\"Caculate the haversine formula\"\"\"\n",
    "    lon1, lat1, lon2, lat2 = map(np.radians,[lon1, lat1, lon2, lat2])\n",
    "    \n",
    "    dlon = lon2 - lon1\n",
    "    dlat = lat2 - lat1\n",
    "    \n",
    "    a = np.sin(dlat/2.0)**2 + np.cos(lat1)*np.cos(lat2)*np.sin(dlon/2.0)**2\n",
    "    \n",
    "    c = 2 * np.arcsin(np.sqrt(a))\n",
    "    ft = 6367 * c * 1000 * 3.28084 # the np formula returns values in kms\n",
    "    return ft\n",
    "\n",
    "def distance(x):\n",
    "    y = x.shift()\n",
    "    return haversine_np(x['lat'], x['lon'], y['lat'], y['lon']).fillna(0)"
   ]
  },
  {
   "cell_type": "code",
   "execution_count": 12,
   "metadata": {},
   "outputs": [],
   "source": [
    "# Apply the distance formula to the dataframe\n",
    "\n",
    "df['distance'] = df.groupby('Client MAC Address').apply(distance).reset_index(level=0, drop=True)"
   ]
  },
  {
   "cell_type": "code",
   "execution_count": 13,
   "metadata": {},
   "outputs": [],
   "source": [
    "# Calculating directional changes\n",
    "df['EastDiff'] = df.groupby('Client MAC Address')['lat'].diff()\n",
    "df['NorthDiff'] = df.groupby('Client MAC Address')['lon'].diff()\n",
    "\n",
    "# fill NA's with null (0) - for stationary clients\n",
    "df['EastDiff'] = df['EastDiff'].fillna(0)\n",
    "df['NorthDiff'] = df['NorthDiff'].fillna(0)\n",
    "\n"
   ]
  },
  {
   "cell_type": "code",
   "execution_count": 14,
   "metadata": {},
   "outputs": [],
   "source": [
    "# Outline movment direction for the client (compassDirection)\n",
    "# and movement as perceived by the AP (compassDirection _AP)\n",
    "# please note that the movement perceived by the AP will be\n",
    "# the exact opposite of the directional movement as perceived\n",
    "# by the client\n",
    "\n",
    "# applying directions from the client's perspective\n",
    "df['EastWest'] = df.EastDiff.apply(lambda x: \"East\" if x >0 else (\"stationary\" if x == 0 else \"West\"))\n",
    "df['NorthSouth'] = df.NorthDiff.apply(lambda x: \"North\" if x >0 else (\"stationary\" if x == 0 else \"South\"))\n",
    "df['compassDirection'] = df[['NorthSouth','EastWest']].apply(lambda x: '-'.join(x), axis=1)\n",
    "\n",
    "# applying directions from AP's perspective\n",
    "df['EastWest_toAP'] = df.EastWest.apply(lambda x: \"East\" if x == \"West\" else (\"stationary\" if x == \"stationary\" else \"West\"))\n",
    "df['NorthSouth_toAP'] = df.NorthSouth.apply(lambda x: \"South\" if x == \"North\" else (\"stationary\" if x == \"stationary\" else \"North\"))\n",
    "df['compassDirection_AP'] = df[['NorthSouth_toAP','EastWest_toAP']].apply(lambda x: '-'.join(x), axis=1)"
   ]
  },
  {
   "cell_type": "code",
   "execution_count": 15,
   "metadata": {},
   "outputs": [],
   "source": [
    "# remove columns that are not needed in the final table\n",
    "\n",
    "df = df.drop(columns=[\"geometry\", \"EastDiff\", \n",
    "                              \"NorthDiff\", \"EastWest\",\n",
    "                             \"NorthSouth\", \"EastWest_toAP\",\n",
    "                             \"NorthSouth_toAP\"])"
   ]
  },
  {
   "cell_type": "code",
   "execution_count": 16,
   "metadata": {},
   "outputs": [],
   "source": [
    "# Saving the file\n",
    "\n",
    "df.to_parquet('./data/df_newEnrichedrows1.parquet', compression = 'snappy')"
   ]
  }
 ],
 "metadata": {
  "interpreter": {
   "hash": "5aed3737797b9d10f21b24e0d358b03a3c94ada0b3360cd240b889356834171e"
  },
  "kernelspec": {
   "display_name": "Python 3 (ipykernel)",
   "language": "python",
   "name": "python3"
  },
  "language_info": {
   "codemirror_mode": {
    "name": "ipython",
    "version": 3
   },
   "file_extension": ".py",
   "mimetype": "text/x-python",
   "name": "python",
   "nbconvert_exporter": "python",
   "pygments_lexer": "ipython3",
   "version": "3.7.12"
  }
 },
 "nbformat": 4,
 "nbformat_minor": 2
}
