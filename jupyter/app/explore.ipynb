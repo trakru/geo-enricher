{
 "cells": [
  {
   "cell_type": "code",
   "execution_count": 3,
   "source": [
    "# Library imports\r\n",
    "\r\n",
    "import pandas as pd\r\n",
    "import numpy as np\r\n",
    "import re"
   ],
   "outputs": [],
   "metadata": {
    "collapsed": true
   }
  },
  {
   "cell_type": "code",
   "execution_count": 5,
   "source": [
    "# read the source data file\r\n",
    "\r\n",
    "df = pd.read_parquet('./data/source-data.parquet')"
   ],
   "outputs": [],
   "metadata": {}
  },
  {
   "cell_type": "code",
   "execution_count": 8,
   "source": [
    "# review the dataframe\r\n",
    "\r\n",
    "df.head()"
   ],
   "outputs": [
    {
     "output_type": "execute_result",
     "data": {
      "text/html": [
       "<div>\n",
       "<style scoped>\n",
       "    .dataframe tbody tr th:only-of-type {\n",
       "        vertical-align: middle;\n",
       "    }\n",
       "\n",
       "    .dataframe tbody tr th {\n",
       "        vertical-align: top;\n",
       "    }\n",
       "\n",
       "    .dataframe thead th {\n",
       "        text-align: right;\n",
       "    }\n",
       "</style>\n",
       "<table border=\"1\" class=\"dataframe\">\n",
       "  <thead>\n",
       "    <tr style=\"text-align: right;\">\n",
       "      <th></th>\n",
       "      <th>Client MAC Address</th>\n",
       "      <th>MAC Address</th>\n",
       "      <th>time</th>\n",
       "      <th>VLAN_ID</th>\n",
       "      <th>tonnage</th>\n",
       "      <th>activeTime</th>\n",
       "      <th>date</th>\n",
       "      <th>month</th>\n",
       "      <th>wday</th>\n",
       "      <th>geometry</th>\n",
       "      <th>type</th>\n",
       "    </tr>\n",
       "  </thead>\n",
       "  <tbody>\n",
       "    <tr>\n",
       "      <th>0</th>\n",
       "      <td>00:00:00:57:b4:49</td>\n",
       "      <td>a8:9f:ec:fc:30:86</td>\n",
       "      <td>2019-11-22T17:00:00Z</td>\n",
       "      <td>822</td>\n",
       "      <td>0.245171</td>\n",
       "      <td>22.896</td>\n",
       "      <td>2019-11-22</td>\n",
       "      <td>Nov</td>\n",
       "      <td>Fri</td>\n",
       "      <td>c(-75.160178, 39.942893)</td>\n",
       "      <td>outdoor</td>\n",
       "    </tr>\n",
       "    <tr>\n",
       "      <th>2</th>\n",
       "      <td>00:04:4b:25:23:3b</td>\n",
       "      <td>a8:9f:ec:da:ad:52</td>\n",
       "      <td>2019-11-11T02:00:00Z</td>\n",
       "      <td>1226</td>\n",
       "      <td>0.485443</td>\n",
       "      <td>125.977</td>\n",
       "      <td>2019-11-11</td>\n",
       "      <td>Nov</td>\n",
       "      <td>Mon</td>\n",
       "      <td>c(-75.159325, 39.939919)</td>\n",
       "      <td>outdoor</td>\n",
       "    </tr>\n",
       "    <tr>\n",
       "      <th>1</th>\n",
       "      <td>00:04:4b:25:23:3b</td>\n",
       "      <td>00:0d:67:7b:aa:08</td>\n",
       "      <td>2019-11-23T05:00:00Z</td>\n",
       "      <td>843</td>\n",
       "      <td>0.002167</td>\n",
       "      <td>3.000</td>\n",
       "      <td>2019-11-23</td>\n",
       "      <td>Nov</td>\n",
       "      <td>Sat</td>\n",
       "      <td>c(-75.157825, 39.944691)</td>\n",
       "      <td>outdoor</td>\n",
       "    </tr>\n",
       "    <tr>\n",
       "      <th>3</th>\n",
       "      <td>00:08:22:00:99:48</td>\n",
       "      <td>a8:9f:ec:da:b3:fa</td>\n",
       "      <td>2019-11-19T16:00:00Z</td>\n",
       "      <td>612</td>\n",
       "      <td>0.003054</td>\n",
       "      <td>3.724</td>\n",
       "      <td>2019-11-19</td>\n",
       "      <td>Nov</td>\n",
       "      <td>Tue</td>\n",
       "      <td>c(-75.16045, 39.941096)</td>\n",
       "      <td>outdoor</td>\n",
       "    </tr>\n",
       "    <tr>\n",
       "      <th>5</th>\n",
       "      <td>00:08:22:00:99:48</td>\n",
       "      <td>a8:9f:ec:fc:30:b6</td>\n",
       "      <td>2019-11-19T16:00:00Z</td>\n",
       "      <td>1224</td>\n",
       "      <td>0.003543</td>\n",
       "      <td>8.515</td>\n",
       "      <td>2019-11-19</td>\n",
       "      <td>Nov</td>\n",
       "      <td>Tue</td>\n",
       "      <td>c(-75.156092, 39.941646)</td>\n",
       "      <td>outdoor</td>\n",
       "    </tr>\n",
       "  </tbody>\n",
       "</table>\n",
       "</div>"
      ],
      "text/plain": [
       "  Client MAC Address        MAC Address                  time  VLAN_ID  \\\n",
       "0  00:00:00:57:b4:49  a8:9f:ec:fc:30:86  2019-11-22T17:00:00Z      822   \n",
       "2  00:04:4b:25:23:3b  a8:9f:ec:da:ad:52  2019-11-11T02:00:00Z     1226   \n",
       "1  00:04:4b:25:23:3b  00:0d:67:7b:aa:08  2019-11-23T05:00:00Z      843   \n",
       "3  00:08:22:00:99:48  a8:9f:ec:da:b3:fa  2019-11-19T16:00:00Z      612   \n",
       "5  00:08:22:00:99:48  a8:9f:ec:fc:30:b6  2019-11-19T16:00:00Z     1224   \n",
       "\n",
       "    tonnage  activeTime        date month wday                  geometry  \\\n",
       "0  0.245171      22.896  2019-11-22   Nov  Fri  c(-75.160178, 39.942893)   \n",
       "2  0.485443     125.977  2019-11-11   Nov  Mon  c(-75.159325, 39.939919)   \n",
       "1  0.002167       3.000  2019-11-23   Nov  Sat  c(-75.157825, 39.944691)   \n",
       "3  0.003054       3.724  2019-11-19   Nov  Tue   c(-75.16045, 39.941096)   \n",
       "5  0.003543       8.515  2019-11-19   Nov  Tue  c(-75.156092, 39.941646)   \n",
       "\n",
       "      type  \n",
       "0  outdoor  \n",
       "2  outdoor  \n",
       "1  outdoor  \n",
       "3  outdoor  \n",
       "5  outdoor  "
      ]
     },
     "metadata": {},
     "execution_count": 8
    }
   ],
   "metadata": {}
  },
  {
   "cell_type": "code",
   "execution_count": 7,
   "source": [
    "# enabling sorted view of dataframe by client mac & time\r\n",
    "\r\n",
    "df = df.sort_values([\"Client MAC Address\",\"time\"], ascending=[True,True])"
   ],
   "outputs": [],
   "metadata": {}
  },
  {
   "cell_type": "code",
   "execution_count": null,
   "source": [
    "# Since this dataframe contains lat, long in geometry form - we need to recapture the lat-long\r\n",
    "# without getting into the complication of installing geopandas to do something that regex\r\n",
    "# can also accomplish without exceeding complexity\r\n",
    "\r\n",
    "# define regex expressions\r\n",
    "lon_match = re.compile(r'c\\((.*),\\s+?.*\\)')\r\n",
    "lat_match = re.compile(r'c\\(.*,\\s+?(.*)\\)')\r\n",
    "\r\n",
    "# apply regex transformations\r\n",
    "df['lat'] = df['geometry'].str.extract(lat_match)\r\n",
    "df['lon'] = df['geometry'].str.extract(lon_match)"
   ],
   "outputs": [],
   "metadata": {}
  }
 ],
 "metadata": {
  "kernelspec": {
   "name": "python3",
   "display_name": "Python 3.9.6 64-bit ('venv': venv)"
  },
  "language_info": {
   "name": "python",
   "version": "3.9.6",
   "mimetype": "text/x-python",
   "codemirror_mode": {
    "name": "ipython",
    "version": 3
   },
   "pygments_lexer": "ipython3",
   "nbconvert_exporter": "python",
   "file_extension": ".py"
  },
  "interpreter": {
   "hash": "5aed3737797b9d10f21b24e0d358b03a3c94ada0b3360cd240b889356834171e"
  }
 },
 "nbformat": 4,
 "nbformat_minor": 2
}